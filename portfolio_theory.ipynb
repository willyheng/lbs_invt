{
 "cells": [
  {
   "cell_type": "code",
   "execution_count": 176,
   "metadata": {},
   "outputs": [],
   "source": [
    "import pandas as pd, numpy as np\n",
    "from datetime import date\n",
    "import matplotlib.pyplot as plt\n",
    "\n",
    "%matplotlib inline"
   ]
  },
  {
   "cell_type": "code",
   "execution_count": null,
   "metadata": {},
   "outputs": [],
   "source": [
    "# Pull out prices into csv\n",
    "import eikon as ek, cufflinks as cf, configparser as cp\n",
    "\n",
    "cf.set_config_file(offline=True)\n",
    "cfg = cp.ConfigParser()\n",
    "cfg.read('eikon.cfg')\n",
    "ek.set_app_key(cfg['eikon']['app_id'])\n",
    "\n",
    "# Read data from Eikon\n",
    "data_ts = ek.get_timeseries('XAU=',  # the RIC for Apple, Inc.\n",
    "                         fields='CLOSE',  # all fields\n",
    "                         start_date='2010-01-01',  # start date\n",
    "                         end_date=date.isoformat(date.today()),\n",
    "                           interval='weekly')  # end date\n",
    "data_ts[::-1].to_csv(\"data/gold.csv\")"
   ]
  },
  {
   "cell_type": "code",
   "execution_count": 99,
   "metadata": {},
   "outputs": [
    {
     "data": {
      "text/html": [
       "<div>\n",
       "<style scoped>\n",
       "    .dataframe tbody tr th:only-of-type {\n",
       "        vertical-align: middle;\n",
       "    }\n",
       "\n",
       "    .dataframe tbody tr th {\n",
       "        vertical-align: top;\n",
       "    }\n",
       "\n",
       "    .dataframe thead th {\n",
       "        text-align: right;\n",
       "    }\n",
       "</style>\n",
       "<table border=\"1\" class=\"dataframe\">\n",
       "  <thead>\n",
       "    <tr style=\"text-align: right;\">\n",
       "      <th></th>\n",
       "      <th>date</th>\n",
       "      <th>UST</th>\n",
       "      <th>SPX</th>\n",
       "      <th>XAU</th>\n",
       "    </tr>\n",
       "  </thead>\n",
       "  <tbody>\n",
       "    <tr>\n",
       "      <td>0</td>\n",
       "      <td>2020-02-14</td>\n",
       "      <td>0.012204</td>\n",
       "      <td>0.015762</td>\n",
       "      <td>0.009182</td>\n",
       "    </tr>\n",
       "    <tr>\n",
       "      <td>1</td>\n",
       "      <td>2020-07-02</td>\n",
       "      <td>-0.002120</td>\n",
       "      <td>0.031682</td>\n",
       "      <td>-0.012523</td>\n",
       "    </tr>\n",
       "    <tr>\n",
       "      <td>2</td>\n",
       "      <td>2020-01-31</td>\n",
       "      <td>0.004556</td>\n",
       "      <td>-0.021226</td>\n",
       "      <td>0.012386</td>\n",
       "    </tr>\n",
       "    <tr>\n",
       "      <td>3</td>\n",
       "      <td>2020-01-24</td>\n",
       "      <td>0.014827</td>\n",
       "      <td>-0.010256</td>\n",
       "      <td>0.009086</td>\n",
       "    </tr>\n",
       "    <tr>\n",
       "      <td>4</td>\n",
       "      <td>2020-01-17</td>\n",
       "      <td>0.002237</td>\n",
       "      <td>0.019682</td>\n",
       "      <td>-0.003718</td>\n",
       "    </tr>\n",
       "    <tr>\n",
       "      <td>...</td>\n",
       "      <td>...</td>\n",
       "      <td>...</td>\n",
       "      <td>...</td>\n",
       "      <td>...</td>\n",
       "    </tr>\n",
       "    <tr>\n",
       "      <td>449</td>\n",
       "      <td>2011-08-07</td>\n",
       "      <td>0.023032</td>\n",
       "      <td>0.003083</td>\n",
       "      <td>0.038902</td>\n",
       "    </tr>\n",
       "    <tr>\n",
       "      <td>450</td>\n",
       "      <td>2011-01-07</td>\n",
       "      <td>-0.034347</td>\n",
       "      <td>0.056147</td>\n",
       "      <td>-0.010432</td>\n",
       "    </tr>\n",
       "    <tr>\n",
       "      <td>451</td>\n",
       "      <td>2011-06-24</td>\n",
       "      <td>0.012254</td>\n",
       "      <td>-0.002399</td>\n",
       "      <td>-0.025244</td>\n",
       "    </tr>\n",
       "    <tr>\n",
       "      <td>452</td>\n",
       "      <td>2011-06-17</td>\n",
       "      <td>0.021989</td>\n",
       "      <td>0.000409</td>\n",
       "      <td>0.005948</td>\n",
       "    </tr>\n",
       "    <tr>\n",
       "      <td>453</td>\n",
       "      <td>2011-10-06</td>\n",
       "      <td>NaN</td>\n",
       "      <td>NaN</td>\n",
       "      <td>NaN</td>\n",
       "    </tr>\n",
       "  </tbody>\n",
       "</table>\n",
       "<p>454 rows × 4 columns</p>\n",
       "</div>"
      ],
      "text/plain": [
       "          date       UST       SPX       XAU\n",
       "0   2020-02-14  0.012204  0.015762  0.009182\n",
       "1   2020-07-02 -0.002120  0.031682 -0.012523\n",
       "2   2020-01-31  0.004556 -0.021226  0.012386\n",
       "3   2020-01-24  0.014827 -0.010256  0.009086\n",
       "4   2020-01-17  0.002237  0.019682 -0.003718\n",
       "..         ...       ...       ...       ...\n",
       "449 2011-08-07  0.023032  0.003083  0.038902\n",
       "450 2011-01-07 -0.034347  0.056147 -0.010432\n",
       "451 2011-06-24  0.012254 -0.002399 -0.025244\n",
       "452 2011-06-17  0.021989  0.000409  0.005948\n",
       "453 2011-10-06       NaN       NaN       NaN\n",
       "\n",
       "[454 rows x 4 columns]"
      ]
     },
     "execution_count": 99,
     "metadata": {},
     "output_type": "execute_result"
    }
   ],
   "source": [
    "# Read data\n",
    "raw = pd.read_csv(\"data/prices.csv\")\n",
    "\n",
    "df = raw.copy()\n",
    "df['date'] = pd.to_datetime(df.date)\n",
    "df = pd.concat([df['date'], df.drop('date', axis = 1).pct_change(-1)], axis = 1)\n",
    "df"
   ]
  },
  {
   "cell_type": "code",
   "execution_count": 173,
   "metadata": {},
   "outputs": [],
   "source": [
    "def pf_std(weights, df_returns):\n",
    "    return np.sqrt(np.matmul(np.matmul(weights, np.array(df_returns.cov())), weights.transpose()))\n",
    "\n",
    "def sim_pf_std(list_of_weights, df_returns):\n",
    "    return np.array(list(map(lambda w: pf_std(w, df_returns), list_of_weights)))"
   ]
  },
  {
   "cell_type": "code",
   "execution_count": 174,
   "metadata": {},
   "outputs": [],
   "source": [
    "def pf_ret(weights, df_returns):\n",
    "    return (weights * df_returns.mean()).sum()\n",
    "\n",
    "def sim_pf_ret(list_of_weights, df_returns):\n",
    "    return np.array(list(map(lambda w: pf_ret(w, df_returns), list_of_weights)))"
   ]
  },
  {
   "cell_type": "code",
   "execution_count": 189,
   "metadata": {},
   "outputs": [
    {
     "data": {
      "text/plain": [
       "<matplotlib.legend.Legend at 0x1c1b269990>"
      ]
     },
     "execution_count": 189,
     "metadata": {},
     "output_type": "execute_result"
    },
    {
     "data": {
      "image/png": "[encoded data removed]",
      "text/plain": [
       "<Figure size 432x288 with 1 Axes>"
      ]
     },
     "metadata": {
      "needs_background": "light"
     },
     "output_type": "display_data"
    }
   ],
   "source": [
    "# Two asset efficient frontier\n",
    "wt_2d = np.array([[x, 1-x] for x in np.arange(0, 1, 0.01)])\n",
    "std_gold_spx = sim_pf_std(wt_2d, df_ret[['XAU', 'SPX']]) * np.sqrt(52)\n",
    "ret_gold_spx = sim_pf_ret(wt_2d, df_ret[['XAU', 'SPX']]) * 52\n",
    "\n",
    "std_ust_spx = sim_pf_std(wt_2d, df_ret[['UST', 'SPX']]) * np.sqrt(52)\n",
    "ret_ust_spx = sim_pf_ret(wt_2d, df_ret[['UST', 'SPX']]) * 52\n",
    "\n",
    "std_ust_gold = sim_pf_std(wt_2d, df_ret[['UST', 'XAU']]) * np.sqrt(52)\n",
    "ret_ust_gold = sim_pf_ret(wt_2d, df_ret[['UST', 'XAU']]) * 52\n",
    "\n",
    "plt.title('Efficient frontiers')\n",
    "plt.plot(std_gold_spx, ret_gold_spx)\n",
    "plt.plot(std_ust_spx, ret_ust_spx)\n",
    "plt.plot(std_ust_gold, ret_ust_gold)\n",
    "plt.legend(['Gold&SPX', 'UST&SPX', 'UST&Gold'])\n"
   ]
  }
 ],
 "metadata": {
  "kernelspec": {
   "display_name": "Python 3",
   "language": "python",
   "name": "python3"
  },
  "language_info": {
   "codemirror_mode": {
    "name": "ipython",
    "version": 3
   },
   "file_extension": ".py",
   "mimetype": "text/x-python",
   "name": "python",
   "nbconvert_exporter": "python",
   "pygments_lexer": "ipython3",
   "version": "3.7.4"
  }
 },
 "nbformat": 4,
 "nbformat_minor": 4
}
