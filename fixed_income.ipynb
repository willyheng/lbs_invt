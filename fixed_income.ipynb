{
 "cells": [
  {
   "cell_type": "code",
   "execution_count": 3,
   "metadata": {},
   "outputs": [],
   "source": [
    "from scipy.optimize import minimize\n",
    "import numpy as np, pandas as pd\n",
    "import sys, os\n",
    "\n",
    "import fixed_income as fi"
   ]
  },
  {
   "cell_type": "code",
   "execution_count": 3,
   "metadata": {},
   "outputs": [],
   "source": [
    "# Setup bonds for bootstrap\n",
    "\n",
    "p1, c1, t1 = (98.5,\n",
    "              [100],\n",
    "             [1])\n",
    "\n",
    "p2, c2, t2 = (100.5,\n",
    "              [1, 1, 1, 101],\n",
    "              [0.5, 1, 1.5, 2])\n",
    "\n",
    "p3, c3, t3 = (118.3,\n",
    "             [4, 4, 4, 4, 4, 104],\n",
    "             [0.4, 0.9, 1.4, 1.9, 2.4, 2.9])\n",
    "\n",
    "b1 = pd.DataFrame({\"cashflow\": c1, \"time\": t1})\n",
    "b2 = pd.DataFrame({\"cashflow\": c2, \"time\": t2})\n",
    "b3 = pd.DataFrame({\"cashflow\": c3, \"time\": t3})\n",
    "\n",
    "bonds = [b1,b2,b3]; prices = [p1, p2, p3]"
   ]
  },
  {
   "cell_type": "code",
   "execution_count": 7,
   "metadata": {},
   "outputs": [
    {
     "data": {
      "text/html": [
       "<div>\n",
       "<style scoped>\n",
       "    .dataframe tbody tr th:only-of-type {\n",
       "        vertical-align: middle;\n",
       "    }\n",
       "\n",
       "    .dataframe tbody tr th {\n",
       "        vertical-align: top;\n",
       "    }\n",
       "\n",
       "    .dataframe thead th {\n",
       "        text-align: right;\n",
       "    }\n",
       "</style>\n",
       "<table border=\"1\" class=\"dataframe\">\n",
       "  <thead>\n",
       "    <tr style=\"text-align: right;\">\n",
       "      <th></th>\n",
       "      <th>rate</th>\n",
       "    </tr>\n",
       "  </thead>\n",
       "  <tbody>\n",
       "    <tr>\n",
       "      <td>1.0</td>\n",
       "      <td>0.015114</td>\n",
       "    </tr>\n",
       "    <tr>\n",
       "      <td>2.0</td>\n",
       "      <td>0.017549</td>\n",
       "    </tr>\n",
       "    <tr>\n",
       "      <td>2.9</td>\n",
       "      <td>0.017988</td>\n",
       "    </tr>\n",
       "  </tbody>\n",
       "</table>\n",
       "</div>"
      ],
      "text/plain": [
       "         rate\n",
       "1.0  0.015114\n",
       "2.0  0.017549\n",
       "2.9  0.017988"
      ]
     },
     "execution_count": 7,
     "metadata": {},
     "output_type": "execute_result"
    }
   ],
   "source": [
    "# Bootstrap term structure\n",
    "term_structure = fi.bootstrap([p1,p2,p3], [b1,b2,b3])\n",
    "term_structure"
   ]
  },
  {
   "cell_type": "code",
   "execution_count": 9,
   "metadata": {},
   "outputs": [
    {
     "name": "stdout",
     "output_type": "stream",
     "text": [
      "Expected price: 100.5\n",
      "pv_from_df output price:100.50000143385135\n",
      "\n",
      "\n",
      "Term structure:\n",
      "         rate\n",
      "1.0  0.015114\n",
      "2.0  0.017549\n",
      "2.9  0.017988\n",
      "\n",
      "\n",
      "Minimization output:\n",
      "      fun: 1.52172102495475e-10\n",
      " hess_inv: array([[1.89412895]])\n",
      "      jac: array([5.85860088e-06])\n",
      "  message: 'Optimization terminated successfully.'\n",
      "     nfev: 114\n",
      "      nit: 27\n",
      "     njev: 38\n",
      "   status: 0\n",
      "  success: True\n",
      "        x: array([0.0181961])\n",
      "\n",
      "\n"
     ]
    },
    {
     "data": {
      "text/plain": [
       "(118.3,\n",
       " (118.24073587452813,\n",
       "     cashflow  time  min_t  min_rate  max_t  max_rate      rate  discounted\n",
       "  0         4   0.4    1.0  0.015114    1.0  0.015114  0.015114    3.976071\n",
       "  1         4   0.9    1.0  0.015114    1.0  0.015114  0.015114    3.946361\n",
       "  2         4   1.4    1.0  0.015114    2.0  0.017549  0.016088    3.911618\n",
       "  3         4   1.9    1.0  0.015114    2.0  0.017549  0.017305    3.871709\n",
       "  4         4   2.4    2.0  0.017549    2.9  0.018196  0.017836    3.833830\n",
       "  5       104   2.9    2.0  0.017549    2.9  0.018196  0.018196   98.701147))"
      ]
     },
     "execution_count": 9,
     "metadata": {},
     "output_type": "execute_result"
    }
   ],
   "source": [
    "# Debug code: Verify term_structure with a bond\n",
    "print(\"Expected price: {}\\npv_from_df output price:{}\\n\\n\".format(p2, *fi.pv_from_df(b2, term_structure, debug = True)))\n",
    "\n",
    "# Debug code: Check minimization\n",
    "term_structure = fi.bootstrap([p1,p2,p3], [b1,b2,b3])\n",
    "print(\"Term structure:\\n{}\\n\\n\".format(term_structure))\n",
    "\n",
    "term_structure = term_structure.iloc[:-1]\n",
    "bond_price = p3; bond_cf = b3\n",
    "min_results = minimize(lambda x: (bond_price - fi.pv_from_df(bond_cf, term_structure, x[0]))**8, [-0.0001])\n",
    "print(\"Minimization output:\\n{}\\n\\n\".format(min_results))\n",
    "\n",
    "(bond_price, fi.pv_from_df(bond_cf, term_structure, min_results.x[0], debug = True))"
   ]
  }
 ],
 "metadata": {
  "kernelspec": {
   "display_name": "Python 3",
   "language": "python",
   "name": "python3"
  },
  "language_info": {
   "codemirror_mode": {
    "name": "ipython",
    "version": 3
   },
   "file_extension": ".py",
   "mimetype": "text/x-python",
   "name": "python",
   "nbconvert_exporter": "python",
   "pygments_lexer": "ipython3",
   "version": "3.7.4"
  }
 },
 "nbformat": 4,
 "nbformat_minor": 4
}
